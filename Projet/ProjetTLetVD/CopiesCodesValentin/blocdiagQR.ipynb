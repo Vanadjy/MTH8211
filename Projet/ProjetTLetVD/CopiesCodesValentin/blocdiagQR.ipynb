{
 "cells": [
  {
   "cell_type": "code",
   "execution_count": 79,
   "id": "63c7de7f",
   "metadata": {},
   "outputs": [
    {
     "name": "stderr",
     "output_type": "stream",
     "text": [
      "\u001b[32m\u001b[1m    Updating\u001b[22m\u001b[39m registry at `C:\\Users\\Utilisateur\\.julia\\registries\\General.toml`\n",
      "\u001b[32m\u001b[1m   Resolving\u001b[22m\u001b[39m package versions...\n",
      "\u001b[32m\u001b[1m    Updating\u001b[22m\u001b[39m `C:\\Users\\Utilisateur\\.julia\\environments\\v1.8\\Project.toml`\n",
      " \u001b[90m [6e4b80f9] \u001b[39m\u001b[92m+ BenchmarkTools v1.3.2\u001b[39m\n",
      "\u001b[32m\u001b[1m  No Changes\u001b[22m\u001b[39m to `C:\\Users\\Utilisateur\\.julia\\environments\\v1.8\\Manifest.toml`\n"
     ]
    }
   ],
   "source": [
    "]add BenchmarkTools"
   ]
  },
  {
   "cell_type": "code",
   "execution_count": 82,
   "id": "36a98a1e",
   "metadata": {},
   "outputs": [],
   "source": [
    "using LinearAlgebra\n",
    "using Test\n",
    "using BenchmarkTools"
   ]
  },
  {
   "cell_type": "code",
   "execution_count": 43,
   "id": "c7c485a8",
   "metadata": {},
   "outputs": [
    {
     "data": {
      "text/plain": [
       "blocdiagQR (generic function with 1 method)"
      ]
     },
     "execution_count": 43,
     "metadata": {},
     "output_type": "execute_result"
    }
   ],
   "source": [
    "# Calculate the QR factorization of a bloc-diagonale matrix A_vect. It return a vector F containing Q_k and R_k matrix\n",
    "# of each block.\n",
    "function blocdiagQR(A_vect)\n",
    "    Q = []\n",
    "    R = []\n",
    "    m_vect = []\n",
    "    n_vect = []      \n",
    "    \n",
    "    for k = 1:size(A,1)\n",
    "        push!(m_vect,size(A_vect[k],1))\n",
    "        push!(n_vect,size(A_vect[k],2))\n",
    "        Q1, R1 = qr(A_vect[k])\n",
    "        push!(Q, Q1)\n",
    "        push!(R, R1)\n",
    "    end\n",
    "    return Q, R\n",
    "end"
   ]
  },
  {
   "cell_type": "code",
   "execution_count": 71,
   "id": "be54618c",
   "metadata": {},
   "outputs": [
    {
     "data": {
      "text/plain": [
       "4×4 LinearAlgebra.QRCompactWYQ{Float64, Matrix{Float64}, Matrix{Float64}}:\n",
       " -0.957713     0.0266962   0.212594  -0.192033\n",
       " -0.00453621  -0.696006   -0.443266  -0.564863\n",
       " -0.283808     0.039914   -0.775911   0.561981\n",
       " -0.0470919   -0.716428    0.395325   0.572915"
      ]
     },
     "metadata": {},
     "output_type": "display_data"
    }
   ],
   "source": [
    "A = rand(4,4)\n",
    "Q, R = qr(A)\n",
    "display(Q)"
   ]
  },
  {
   "cell_type": "code",
   "execution_count": 63,
   "id": "60baf4c4",
   "metadata": {},
   "outputs": [
    {
     "data": {
      "text/plain": [
       "VectToFull (generic function with 1 method)"
      ]
     },
     "execution_count": 63,
     "metadata": {},
     "output_type": "execute_result"
    }
   ],
   "source": [
    "# Create a block-diag A_vect random from a nb of submatrix and maximum of column and row of each submatrix.\n",
    "function CreateDiagBlock(nb_Matrix, m_max, n_max)\n",
    "    A_vect = []\n",
    "    m_vect = rand(1:m_max, nb_Matrix)\n",
    "    n_vect = rand(1:n_max, nb_Matrix)\n",
    "    for k = 1:nb_Matrix\n",
    "        if m_vect[k]<n_vect[k]\n",
    "            (m_vect[k],n_vect[k]) = (n_vect[k],m_vect[k])\n",
    "        end\n",
    "        push!(A_vect, rand(m_vect[k],n_vect[k]))\n",
    "    end\n",
    "    m = sum(m_vect)\n",
    "    n = sum(n_vect)\n",
    "    return A_vect, m , n \n",
    "end\n",
    "\n",
    "# Create a block-diag A random from a nb of submatrix and maximum of column and row of each submatrix.\n",
    "function CreateDiagBlockFull(nb_Matrix, m_max, n_max)\n",
    "    m_vect = rand(1:m_max, nb_Matrix)\n",
    "    n_vect = rand(1:n_max, nb_Matrix)\n",
    "    for k = 1:nb_Matrix\n",
    "        if m_vect[k]<n_vect[k]\n",
    "            (m_vect[k],n_vect[k]) = (n_vect[k],m_vect[k])\n",
    "        end \n",
    "    end\n",
    "    A_full = zeros(sum(m_vect), sum(n_vect))\n",
    "            \n",
    "    for k = 1:nb_Matrix\n",
    "        if k == 1\n",
    "            A_full[1:m_vect[k],1:n_vect[k]] = rand(m_vect[k],n_vect[k])\n",
    "        else\n",
    "            A_full[sum(m_vect[1:k-1])+1:sum(m_vect[1:k]),sum(n_vect[1:k-1])+1:sum(n_vect[1:k])] = rand(m_vect[k],n_vect[k])\n",
    "        end\n",
    "    end\n",
    "    m = sum(m_vect)\n",
    "    n = sum(n_vect)\n",
    "        \n",
    "    return A_full, m, n\n",
    "end\n",
    "\n",
    "# Transform a block-diag A_vect to a block-diag A full\n",
    "function VectToFull(A_vect)\n",
    "    nb_Matrix = size(A_vect,1)\n",
    "    m_vect = []\n",
    "    n_vect = []\n",
    "    for k = 1:nb_Matrix\n",
    "        push!(m_vect,size(A_vect[k],1))\n",
    "        push!(n_vect,size(A_vect[k],2))\n",
    "    end\n",
    "    A_full = zeros(sum(m_vect), sum(n_vect))\n",
    "    \n",
    "    for k = 1:nb_Matrix\n",
    "        if k == 1\n",
    "            A_full[1:m_vect[k],1:n_vect[k]] = A_vect[k]\n",
    "        else\n",
    "            A_full[sum(m_vect[1:k-1])+1:sum(m_vect[1:k]),sum(n_vect[1:k-1])+1:sum(n_vect[1:k])] = A_vect[k]\n",
    "        end\n",
    "    end\n",
    "    m = sum(m_vect)\n",
    "    n = sum(n_vect)\n",
    "    return A_full, m, n\n",
    "end"
   ]
  },
  {
   "cell_type": "code",
   "execution_count": 60,
   "id": "a5bc1887",
   "metadata": {},
   "outputs": [
    {
     "data": {
      "text/plain": [
       "36×18 Matrix{Float64}:\n",
       " 0.904841   0.0        0.0       0.0       …  0.0       0.0       0.0\n",
       " 0.981571   0.0        0.0       0.0          0.0       0.0       0.0\n",
       " 0.767117   0.0        0.0       0.0          0.0       0.0       0.0\n",
       " 0.182768   0.0        0.0       0.0          0.0       0.0       0.0\n",
       " 0.426983   0.0        0.0       0.0          0.0       0.0       0.0\n",
       " 0.67282    0.0        0.0       0.0       …  0.0       0.0       0.0\n",
       " 0.0895693  0.0        0.0       0.0          0.0       0.0       0.0\n",
       " 0.884353   0.0        0.0       0.0          0.0       0.0       0.0\n",
       " 0.314296   0.0        0.0       0.0          0.0       0.0       0.0\n",
       " 0.520547   0.0        0.0       0.0          0.0       0.0       0.0\n",
       " 0.0        0.379239   0.811545  0.213698  …  0.0       0.0       0.0\n",
       " 0.0        0.0125879  0.214344  0.422886     0.0       0.0       0.0\n",
       " 0.0        0.678795   0.080505  0.228257     0.0       0.0       0.0\n",
       " ⋮                                         ⋱  ⋮                   \n",
       " 0.0        0.0        0.0       0.0          0.202944  0.573297  0.0\n",
       " 0.0        0.0        0.0       0.0       …  0.551075  0.212275  0.0\n",
       " 0.0        0.0        0.0       0.0          0.578704  0.185058  0.0\n",
       " 0.0        0.0        0.0       0.0          0.0       0.0       0.31604\n",
       " 0.0        0.0        0.0       0.0          0.0       0.0       0.627232\n",
       " 0.0        0.0        0.0       0.0          0.0       0.0       0.295626\n",
       " 0.0        0.0        0.0       0.0       …  0.0       0.0       0.985797\n",
       " 0.0        0.0        0.0       0.0          0.0       0.0       0.980038\n",
       " 0.0        0.0        0.0       0.0          0.0       0.0       0.0694354\n",
       " 0.0        0.0        0.0       0.0          0.0       0.0       0.210966\n",
       " 0.0        0.0        0.0       0.0          0.0       0.0       0.56449\n",
       " 0.0        0.0        0.0       0.0       …  0.0       0.0       0.584016"
      ]
     },
     "metadata": {},
     "output_type": "display_data"
    }
   ],
   "source": [
    "# Test\n",
    "A_vect = CreateDiagBlock(1, 10, 10)\n",
    "F = blocdiagQR(A_vect)\n",
    "A_full = CreateDiagBlockFull(4, 10, 10)"
   ]
  },
  {
   "cell_type": "code",
   "execution_count": 75,
   "id": "61e3f6c4",
   "metadata": {},
   "outputs": [
    {
     "name": "stdout",
     "output_type": "stream",
     "text": [
      "test set: \u001b[91m\u001b[1mError During Test\u001b[22m\u001b[39m at \u001b[39m\u001b[1mIn[75]:3\u001b[22m\n",
      "  Got exception outside of a @test\n",
      "  MethodError: no method matching getindex(::LinearAlgebra.QRCompactWY{Float64, Matrix{Float64}, Matrix{Float64}}, ::Int64)\n",
      "  Stacktrace:\n",
      "    [1] \u001b[0m\u001b[1mVectToFull\u001b[22m\u001b[0m\u001b[1m(\u001b[22m\u001b[90mA_vect\u001b[39m::\u001b[0mLinearAlgebra.QRCompactWY\u001b[90m{Float64, Matrix{Float64}, Matrix{Float64}}\u001b[39m\u001b[0m\u001b[1m)\u001b[22m\n",
      "  \u001b[90m    @ \u001b[39m\u001b[35mMain\u001b[39m \u001b[90m.\\\u001b[39m\u001b[90m\u001b[4mIn[63]:45\u001b[24m\u001b[39m\n",
      "    [2] \u001b[0m\u001b[1mmacro expansion\u001b[22m\n",
      "  \u001b[90m    @ \u001b[39m\u001b[90m\u001b[4mIn[75]:12\u001b[24m\u001b[39m\u001b[90m [inlined]\u001b[39m\n",
      "    [3] \u001b[0m\u001b[1mmacro expansion\u001b[22m\n",
      "  \u001b[90m    @ \u001b[39m\u001b[90mC:\\Users\\Utilisateur\\AppData\\Local\\Programs\\Julia-1.8.5\\share\\julia\\stdlib\\v1.8\\Test\\src\\\u001b[39m\u001b[90m\u001b[4mTest.jl:1363\u001b[24m\u001b[39m\u001b[90m [inlined]\u001b[39m\n",
      "    [4] top-level scope\n",
      "  \u001b[90m    @ \u001b[39m\u001b[90m\u001b[4mIn[75]:4\u001b[24m\u001b[39m\n",
      "    [5] \u001b[0m\u001b[1meval\u001b[22m\n",
      "  \u001b[90m    @ \u001b[39m\u001b[90m.\\\u001b[39m\u001b[90m\u001b[4mboot.jl:368\u001b[24m\u001b[39m\u001b[90m [inlined]\u001b[39m\n",
      "    [6] \u001b[0m\u001b[1minclude_string\u001b[22m\u001b[0m\u001b[1m(\u001b[22m\u001b[90mmapexpr\u001b[39m::\u001b[0mtypeof(REPL.softscope), \u001b[90mmod\u001b[39m::\u001b[0mModule, \u001b[90mcode\u001b[39m::\u001b[0mString, \u001b[90mfilename\u001b[39m::\u001b[0mString\u001b[0m\u001b[1m)\u001b[22m\n",
      "  \u001b[90m    @ \u001b[39m\u001b[90mBase\u001b[39m \u001b[90m.\\\u001b[39m\u001b[90m\u001b[4mloading.jl:1428\u001b[24m\u001b[39m\n",
      "    [7] \u001b[0m\u001b[1msoftscope_include_string\u001b[22m\u001b[0m\u001b[1m(\u001b[22m\u001b[90mm\u001b[39m::\u001b[0mModule, \u001b[90mcode\u001b[39m::\u001b[0mString, \u001b[90mfilename\u001b[39m::\u001b[0mString\u001b[0m\u001b[1m)\u001b[22m\n",
      "  \u001b[90m    @ \u001b[39m\u001b[36mSoftGlobalScope\u001b[39m \u001b[90mC:\\Users\\Utilisateur\\.julia\\packages\\SoftGlobalScope\\u4UzH\\src\\\u001b[39m\u001b[90m\u001b[4mSoftGlobalScope.jl:65\u001b[24m\u001b[39m\n",
      "    [8] \u001b[0m\u001b[1mexecute_request\u001b[22m\u001b[0m\u001b[1m(\u001b[22m\u001b[90msocket\u001b[39m::\u001b[0mZMQ.Socket, \u001b[90mmsg\u001b[39m::\u001b[0mIJulia.Msg\u001b[0m\u001b[1m)\u001b[22m\n",
      "  \u001b[90m    @ \u001b[39m\u001b[32mIJulia\u001b[39m \u001b[90mC:\\Users\\Utilisateur\\.julia\\packages\\IJulia\\6TIq1\\src\\\u001b[39m\u001b[90m\u001b[4mexecute_request.jl:67\u001b[24m\u001b[39m\n",
      "    [9] \u001b[0m\u001b[1m#invokelatest#2\u001b[22m\n",
      "  \u001b[90m    @ \u001b[39m\u001b[90m.\\\u001b[39m\u001b[90m\u001b[4messentials.jl:729\u001b[24m\u001b[39m\u001b[90m [inlined]\u001b[39m\n",
      "   [10] \u001b[0m\u001b[1minvokelatest\u001b[22m\n",
      "  \u001b[90m    @ \u001b[39m\u001b[90m.\\\u001b[39m\u001b[90m\u001b[4messentials.jl:726\u001b[24m\u001b[39m\u001b[90m [inlined]\u001b[39m\n",
      "   [11] \u001b[0m\u001b[1meventloop\u001b[22m\u001b[0m\u001b[1m(\u001b[22m\u001b[90msocket\u001b[39m::\u001b[0mZMQ.Socket\u001b[0m\u001b[1m)\u001b[22m\n",
      "  \u001b[90m    @ \u001b[39m\u001b[32mIJulia\u001b[39m \u001b[90mC:\\Users\\Utilisateur\\.julia\\packages\\IJulia\\6TIq1\\src\\\u001b[39m\u001b[90m\u001b[4meventloop.jl:8\u001b[24m\u001b[39m\n",
      "   [12] \u001b[0m\u001b[1m(::IJulia.var\"#15#18\")\u001b[22m\u001b[0m\u001b[1m(\u001b[22m\u001b[0m\u001b[1m)\u001b[22m\n",
      "  \u001b[90m    @ \u001b[39m\u001b[32mIJulia\u001b[39m \u001b[90m.\\\u001b[39m\u001b[90m\u001b[4mtask.jl:484\u001b[24m\u001b[39m\n",
      "\u001b[0m\u001b[1mTest Summary: | \u001b[22m\u001b[32m\u001b[1mPass  \u001b[22m\u001b[39m\u001b[91m\u001b[1mError  \u001b[22m\u001b[39m\u001b[36m\u001b[1mTotal  \u001b[22m\u001b[39m\u001b[0m\u001b[1mTime\u001b[22m\n",
      "test set      | \u001b[32m   1  \u001b[39m\u001b[91m    1  \u001b[39m\u001b[36m    2  \u001b[39m\u001b[0m0.0s\n"
     ]
    },
    {
     "ename": "LoadError",
     "evalue": "\u001b[91mSome tests did not pass: 1 passed, 0 failed, 1 errored, 0 broken.\u001b[39m",
     "output_type": "error",
     "traceback": [
      "\u001b[91mSome tests did not pass: 1 passed, 0 failed, 1 errored, 0 broken.\u001b[39m",
      "",
      "Stacktrace:",
      " [1] finish(ts::Test.DefaultTestSet)",
      "   @ Test C:\\Users\\Utilisateur\\AppData\\Local\\Programs\\Julia-1.8.5\\share\\julia\\stdlib\\v1.8\\Test\\src\\Test.jl:1095",
      " [2] macro expansion",
      "   @ C:\\Users\\Utilisateur\\AppData\\Local\\Programs\\Julia-1.8.5\\share\\julia\\stdlib\\v1.8\\Test\\src\\Test.jl:1374 [inlined]",
      " [3] top-level scope",
      "   @ In[75]:4"
     ]
    }
   ],
   "source": [
    "# Tests\n",
    "\n",
    "@testset begin\n",
    "    A_vect, m, n = CreateDiagBlock(4, 10, 10)\n",
    "    Q_vect, R_vect = blocdiagQR(A_vect)\n",
    "    A_full, m1, n1 = VectToFull(A_vect)\n",
    "    @test m1 == m && n1 == n\n",
    "    b = rand(m)\n",
    "\n",
    "    F_full = qr(A_full)\n",
    "    \n",
    "    Q_vect = VectToFull(Q_vect)\n",
    "    @test norm(Q_vect'Q_vect - I) <= 1e-14 #tests that Q_H si unitary\n",
    "    @test norm((Q_vect)*b - mult_Q_transpose_x!(R_vect,b)) <= 1e-14 #tests if the multiplication is correct\n",
    "    @test norm((Q_vect')*b - mult_Q_x!(R_vect,b)) <= 1e-14\n",
    "    @test norm(F_full.Q - Q_vect) <= 1e-14 #tests of unicity of QR decomposition\n",
    "    @test norm(F_full.R - triu(R_vect[1:n,1:n])) <= 1e-14 \n",
    "    @test norm(Q_vect*triu(R_vect) - A_full) <= 1e-14 #tests if the QR decomposition is correct\n",
    "end\n"
   ]
  },
  {
   "cell_type": "code",
   "execution_count": 86,
   "id": "f685fe54",
   "metadata": {},
   "outputs": [
    {
     "data": {
      "text/plain": [
       "BenchmarkTools.Trial: 4669 samples with 1 evaluation.\n",
       " Range \u001b[90m(\u001b[39m\u001b[36m\u001b[1mmin\u001b[22m\u001b[39m … \u001b[35mmax\u001b[39m\u001b[90m):  \u001b[39m\u001b[36m\u001b[1m884.400 μs\u001b[22m\u001b[39m … \u001b[35m  7.028 ms\u001b[39m  \u001b[90m┊\u001b[39m GC \u001b[90m(\u001b[39mmin … max\u001b[90m): \u001b[39m0.00% … 83.96%\n",
       " Time  \u001b[90m(\u001b[39m\u001b[34m\u001b[1mmedian\u001b[22m\u001b[39m\u001b[90m):     \u001b[39m\u001b[34m\u001b[1m  1.019 ms               \u001b[22m\u001b[39m\u001b[90m┊\u001b[39m GC \u001b[90m(\u001b[39mmedian\u001b[90m):    \u001b[39m0.00%\n",
       " Time  \u001b[90m(\u001b[39m\u001b[32m\u001b[1mmean\u001b[22m\u001b[39m ± \u001b[32mσ\u001b[39m\u001b[90m):   \u001b[39m\u001b[32m\u001b[1m  1.064 ms\u001b[22m\u001b[39m ± \u001b[32m342.203 μs\u001b[39m  \u001b[90m┊\u001b[39m GC \u001b[90m(\u001b[39mmean ± σ\u001b[90m):  \u001b[39m2.30% ±  6.19%\n",
       "\n",
       "  \u001b[39m \u001b[39m▃\u001b[39m▆\u001b[39m▆\u001b[39m█\u001b[39m▆\u001b[39m▁\u001b[39m▆\u001b[39m▃\u001b[34m▇\u001b[39m\u001b[39m▃\u001b[39m█\u001b[32m▃\u001b[39m\u001b[39m▁\u001b[39m▁\u001b[39m \u001b[39m \u001b[39m \u001b[39m \u001b[39m \u001b[39m \u001b[39m \u001b[39m \u001b[39m \u001b[39m \u001b[39m \u001b[39m \u001b[39m \u001b[39m \u001b[39m \u001b[39m \u001b[39m \u001b[39m \u001b[39m \u001b[39m \u001b[39m \u001b[39m \u001b[39m \u001b[39m \u001b[39m \u001b[39m \u001b[39m \u001b[39m \u001b[39m \u001b[39m \u001b[39m \u001b[39m \u001b[39m \u001b[39m \u001b[39m \u001b[39m \u001b[39m \u001b[39m \u001b[39m \u001b[39m \u001b[39m \u001b[39m \u001b[39m \u001b[39m \u001b[39m \u001b[39m \u001b[39m \u001b[39m \n",
       "  \u001b[39m▇\u001b[39m█\u001b[39m█\u001b[39m█\u001b[39m█\u001b[39m█\u001b[39m█\u001b[39m█\u001b[39m█\u001b[34m█\u001b[39m\u001b[39m█\u001b[39m█\u001b[32m█\u001b[39m\u001b[39m█\u001b[39m█\u001b[39m▇\u001b[39m▇\u001b[39m▆\u001b[39m▅\u001b[39m▅\u001b[39m▄\u001b[39m▄\u001b[39m▄\u001b[39m▄\u001b[39m▃\u001b[39m▃\u001b[39m▃\u001b[39m▃\u001b[39m▃\u001b[39m▃\u001b[39m▃\u001b[39m▂\u001b[39m▃\u001b[39m▂\u001b[39m▂\u001b[39m▂\u001b[39m▂\u001b[39m▂\u001b[39m▂\u001b[39m▂\u001b[39m▂\u001b[39m▂\u001b[39m▂\u001b[39m▂\u001b[39m▂\u001b[39m▂\u001b[39m▂\u001b[39m▁\u001b[39m▂\u001b[39m▂\u001b[39m▂\u001b[39m▂\u001b[39m▂\u001b[39m▂\u001b[39m▂\u001b[39m▂\u001b[39m▂\u001b[39m▂\u001b[39m▂\u001b[39m▁\u001b[39m▂\u001b[39m \u001b[39m▄\n",
       "  884 μs\u001b[90m           Histogram: frequency by time\u001b[39m         1.77 ms \u001b[0m\u001b[1m<\u001b[22m\n",
       "\n",
       " Memory estimate\u001b[90m: \u001b[39m\u001b[33m307.34 KiB\u001b[39m, allocs estimate\u001b[90m: \u001b[39m\u001b[33m56\u001b[39m."
      ]
     },
     "execution_count": 86,
     "metadata": {},
     "output_type": "execute_result"
    }
   ],
   "source": [
    "A_vect, m, n = CreateDiagBlock(10, 100, 100)\n",
    "@benchmark blocdiagQR($A_vect)\n",
    "\n"
   ]
  },
  {
   "cell_type": "code",
   "execution_count": 87,
   "id": "ae8ea052",
   "metadata": {},
   "outputs": [
    {
     "data": {
      "text/plain": [
       "BenchmarkTools.Trial: 508 samples with 1 evaluation.\n",
       " Range \u001b[90m(\u001b[39m\u001b[36m\u001b[1mmin\u001b[22m\u001b[39m … \u001b[35mmax\u001b[39m\u001b[90m):  \u001b[39m\u001b[36m\u001b[1m8.241 ms\u001b[22m\u001b[39m … \u001b[35m18.787 ms\u001b[39m  \u001b[90m┊\u001b[39m GC \u001b[90m(\u001b[39mmin … max\u001b[90m): \u001b[39m0.00% … 23.43%\n",
       " Time  \u001b[90m(\u001b[39m\u001b[34m\u001b[1mmedian\u001b[22m\u001b[39m\u001b[90m):     \u001b[39m\u001b[34m\u001b[1m9.566 ms              \u001b[22m\u001b[39m\u001b[90m┊\u001b[39m GC \u001b[90m(\u001b[39mmedian\u001b[90m):    \u001b[39m0.00%\n",
       " Time  \u001b[90m(\u001b[39m\u001b[32m\u001b[1mmean\u001b[22m\u001b[39m ± \u001b[32mσ\u001b[39m\u001b[90m):   \u001b[39m\u001b[32m\u001b[1m9.830 ms\u001b[22m\u001b[39m ± \u001b[32m 1.356 ms\u001b[39m  \u001b[90m┊\u001b[39m GC \u001b[90m(\u001b[39mmean ± σ\u001b[90m):  \u001b[39m1.52% ±  5.42%\n",
       "\n",
       "  \u001b[39m▆\u001b[39m▃\u001b[39m \u001b[39m \u001b[39m \u001b[39m \u001b[39m▂\u001b[39m▅\u001b[39m█\u001b[39m▃\u001b[39m▇\u001b[34m▅\u001b[39m\u001b[39m▆\u001b[39m▄\u001b[32m▆\u001b[39m\u001b[39m▁\u001b[39m▂\u001b[39m \u001b[39m▁\u001b[39m \u001b[39m \u001b[39m \u001b[39m \u001b[39m \u001b[39m \u001b[39m \u001b[39m \u001b[39m \u001b[39m \u001b[39m \u001b[39m \u001b[39m \u001b[39m \u001b[39m \u001b[39m \u001b[39m \u001b[39m \u001b[39m \u001b[39m \u001b[39m \u001b[39m \u001b[39m \u001b[39m \u001b[39m \u001b[39m \u001b[39m \u001b[39m \u001b[39m \u001b[39m \u001b[39m \u001b[39m \u001b[39m \u001b[39m \u001b[39m \u001b[39m \u001b[39m \u001b[39m \u001b[39m \u001b[39m \u001b[39m \n",
       "  \u001b[39m█\u001b[39m█\u001b[39m█\u001b[39m█\u001b[39m█\u001b[39m▇\u001b[39m█\u001b[39m█\u001b[39m█\u001b[39m█\u001b[39m█\u001b[34m█\u001b[39m\u001b[39m█\u001b[39m█\u001b[32m█\u001b[39m\u001b[39m█\u001b[39m█\u001b[39m▇\u001b[39m█\u001b[39m▆\u001b[39m▆\u001b[39m▅\u001b[39m▄\u001b[39m▇\u001b[39m▃\u001b[39m▄\u001b[39m▃\u001b[39m▃\u001b[39m▃\u001b[39m▂\u001b[39m▃\u001b[39m▃\u001b[39m▃\u001b[39m▂\u001b[39m▃\u001b[39m▂\u001b[39m▃\u001b[39m▂\u001b[39m▂\u001b[39m▁\u001b[39m▂\u001b[39m▁\u001b[39m▂\u001b[39m▁\u001b[39m▂\u001b[39m▁\u001b[39m▁\u001b[39m▁\u001b[39m▂\u001b[39m▂\u001b[39m▂\u001b[39m▃\u001b[39m▃\u001b[39m▁\u001b[39m▃\u001b[39m▁\u001b[39m▂\u001b[39m▂\u001b[39m \u001b[39m▄\n",
       "  8.24 ms\u001b[90m        Histogram: frequency by time\u001b[39m        14.9 ms \u001b[0m\u001b[1m<\u001b[22m\n",
       "\n",
       " Memory estimate\u001b[90m: \u001b[39m\u001b[33m1.75 MiB\u001b[39m, allocs estimate\u001b[90m: \u001b[39m\u001b[33m6\u001b[39m."
      ]
     },
     "execution_count": 87,
     "metadata": {},
     "output_type": "execute_result"
    }
   ],
   "source": [
    "A_full, m1, n1 = VectToFull(A_vect)\n",
    "@benchmark qr($A_full)"
   ]
  },
  {
   "cell_type": "code",
   "execution_count": null,
   "id": "65ddd696",
   "metadata": {},
   "outputs": [],
   "source": []
  }
 ],
 "metadata": {
  "kernelspec": {
   "display_name": "Julia 1.8.5",
   "language": "julia",
   "name": "julia-1.8"
  },
  "language_info": {
   "file_extension": ".jl",
   "mimetype": "application/julia",
   "name": "julia",
   "version": "1.8.5"
  }
 },
 "nbformat": 4,
 "nbformat_minor": 5
}
